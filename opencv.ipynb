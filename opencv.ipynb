{
 "cells": [
  {
   "cell_type": "code",
   "execution_count": 35,
   "metadata": {},
   "outputs": [],
   "source": [
    "import pandas as pd"
   ]
  },
  {
   "cell_type": "code",
   "execution_count": 36,
   "metadata": {},
   "outputs": [],
   "source": [
    "import numpy as np"
   ]
  },
  {
   "cell_type": "code",
   "execution_count": 37,
   "metadata": {},
   "outputs": [],
   "source": [
    "import cv2"
   ]
  },
  {
   "cell_type": "code",
   "execution_count": 38,
   "metadata": {},
   "outputs": [],
   "source": [
    "#read an image\n",
    "\n",
    "img1=cv2.imread(\"img/fruits.png\")"
   ]
  },
  {
   "cell_type": "code",
   "execution_count": 39,
   "metadata": {},
   "outputs": [
    {
     "name": "stdout",
     "output_type": "stream",
     "text": [
      "<class 'numpy.ndarray'>\n"
     ]
    }
   ],
   "source": [
    "print(type(img1))"
   ]
  },
  {
   "cell_type": "code",
   "execution_count": 40,
   "metadata": {},
   "outputs": [
    {
     "name": "stdout",
     "output_type": "stream",
     "text": [
      "(512, 512, 3)\n"
     ]
    }
   ],
   "source": [
    "print(img1.shape)"
   ]
  },
  {
   "cell_type": "code",
   "execution_count": 41,
   "metadata": {},
   "outputs": [
    {
     "name": "stdout",
     "output_type": "stream",
     "text": [
      "[[[225 188 245]\n",
      "  [224 187 244]\n",
      "  [223 185 245]\n",
      "  ...\n",
      "  [128 135 164]\n",
      "  [128 134 163]\n",
      "  [128 134 163]]\n",
      "\n",
      " [[232 199 243]\n",
      "  [231 197 244]\n",
      "  [229 194 245]\n",
      "  ...\n",
      "  [128 135 164]\n",
      "  [128 134 163]\n",
      "  [127 134 163]]\n",
      "\n",
      " [[238 206 243]\n",
      "  [238 205 242]\n",
      "  [238 204 244]\n",
      "  ...\n",
      "  [128 134 163]\n",
      "  [128 134 163]\n",
      "  [128 134 163]]\n",
      "\n",
      " ...\n",
      "\n",
      " [[170 183 217]\n",
      "  [172 184 217]\n",
      "  [177 186 217]\n",
      "  ...\n",
      "  [153 158 183]\n",
      "  [157 163 188]\n",
      "  [160 168 193]]\n",
      "\n",
      " [[171 184 218]\n",
      "  [171 183 217]\n",
      "  [174 184 218]\n",
      "  ...\n",
      "  [156 160 185]\n",
      "  [154 156 186]\n",
      "  [154 159 186]]\n",
      "\n",
      " [[174 186 220]\n",
      "  [171 184 218]\n",
      "  [172 182 216]\n",
      "  ...\n",
      "  [166 167 190]\n",
      "  [158 158 185]\n",
      "  [149 155 182]]]\n"
     ]
    }
   ],
   "source": [
    "print(img1)"
   ]
  },
  {
   "cell_type": "code",
   "execution_count": 42,
   "metadata": {},
   "outputs": [],
   "source": [
    "img2=cv2.imread(\"img/moon.png\")"
   ]
  },
  {
   "cell_type": "code",
   "execution_count": 43,
   "metadata": {},
   "outputs": [
    {
     "name": "stdout",
     "output_type": "stream",
     "text": [
      "(512, 512, 3)\n"
     ]
    }
   ],
   "source": [
    "print(img2.shape)"
   ]
  },
  {
   "cell_type": "code",
   "execution_count": 44,
   "metadata": {},
   "outputs": [
    {
     "data": {
      "text/plain": [
       "-1"
      ]
     },
     "execution_count": 44,
     "metadata": {},
     "output_type": "execute_result"
    }
   ],
   "source": [
    "cv2.imshow(\"window\",img2)\n",
    "cv2.waitKey(100)"
   ]
  },
  {
   "cell_type": "markdown",
   "metadata": {},
   "source": [
    "# converting rgb image into gray scale image"
   ]
  },
  {
   "cell_type": "code",
   "execution_count": 45,
   "metadata": {},
   "outputs": [],
   "source": [
    "img_gray = cv2.cvtColor(img1,cv2.COLOR_BGR2GRAY)\n",
    "cv2.imshow(\"window\",img_gray)\n"
   ]
  },
  {
   "cell_type": "code",
   "execution_count": 46,
   "metadata": {},
   "outputs": [
    {
     "data": {
      "text/plain": [
       "-1"
      ]
     },
     "execution_count": 46,
     "metadata": {},
     "output_type": "execute_result"
    }
   ],
   "source": [
    "cv2.waitKey(1)"
   ]
  },
  {
   "cell_type": "code",
   "execution_count": 47,
   "metadata": {},
   "outputs": [
    {
     "name": "stdout",
     "output_type": "stream",
     "text": [
      "(512, 512)\n"
     ]
    }
   ],
   "source": [
    "print(img_gray.shape)"
   ]
  },
  {
   "cell_type": "markdown",
   "metadata": {},
   "source": [
    "# playing with rgb"
   ]
  },
  {
   "cell_type": "code",
   "execution_count": 48,
   "metadata": {},
   "outputs": [
    {
     "data": {
      "text/plain": [
       "-1"
      ]
     },
     "execution_count": 48,
     "metadata": {},
     "output_type": "execute_result"
    }
   ],
   "source": [
    "#Yellow\n",
    "img1[:,:,0]=0\n",
    "cv2.imshow(\"window\",img1)\n",
    "cv2.waitKey(100)\n"
   ]
  },
  {
   "cell_type": "code",
   "execution_count": 49,
   "metadata": {},
   "outputs": [
    {
     "data": {
      "text/plain": [
       "-1"
      ]
     },
     "execution_count": 49,
     "metadata": {},
     "output_type": "execute_result"
    }
   ],
   "source": [
    "#red\n",
    "img1[:,:,1]=0\n",
    "cv2.imshow(\"window\",img1)\n",
    "cv2.waitKey(100)\n"
   ]
  },
  {
   "cell_type": "markdown",
   "metadata": {},
   "source": [
    "# 3 in one"
   ]
  },
  {
   "cell_type": "code",
   "execution_count": 50,
   "metadata": {},
   "outputs": [
    {
     "data": {
      "text/plain": [
       "-1"
      ]
     },
     "execution_count": 50,
     "metadata": {},
     "output_type": "execute_result"
    }
   ],
   "source": [
    "img1=cv2.imread(\"img/fruits.png\")\n",
    "imgblue=img1[:,:,0]\n",
    "imggreen=img1[:,:,1]\n",
    "imgred=img1[:,:,2]\n",
    "\n",
    "new_img=np.hstack((imgblue,imggreen,imgred))\n",
    "\n",
    "cv2.imshow(\"window\",new_img)\n",
    "cv2.waitKey(1000)\n"
   ]
  },
  {
   "cell_type": "code",
   "execution_count": 51,
   "metadata": {},
   "outputs": [
    {
     "name": "stdout",
     "output_type": "stream",
     "text": [
      "(512, 1536)\n"
     ]
    }
   ],
   "source": [
    "print(new_img.shape)"
   ]
  },
  {
   "cell_type": "markdown",
   "metadata": {},
   "source": [
    "# resize the images"
   ]
  },
  {
   "cell_type": "code",
   "execution_count": 52,
   "metadata": {},
   "outputs": [
    {
     "data": {
      "text/plain": [
       "-1"
      ]
     },
     "execution_count": 52,
     "metadata": {},
     "output_type": "execute_result"
    }
   ],
   "source": [
    "#resize image using opencv\n",
    "img1=cv2.imread(\"img/fruits.png\")\n",
    "img_resize=cv2.resize(img1,(256,256))\n",
    "cv2.imshow(\"window\",img_resize)\n",
    "cv2.waitKey(1000)\n",
    "\n"
   ]
  },
  {
   "cell_type": "code",
   "execution_count": 53,
   "metadata": {},
   "outputs": [
    {
     "name": "stdout",
     "output_type": "stream",
     "text": [
      "(256, 256, 3)\n"
     ]
    }
   ],
   "source": [
    "print(img_resize.shape)"
   ]
  },
  {
   "cell_type": "code",
   "execution_count": 54,
   "metadata": {},
   "outputs": [
    {
     "data": {
      "text/plain": [
       "-1"
      ]
     },
     "execution_count": 54,
     "metadata": {},
     "output_type": "execute_result"
    }
   ],
   "source": [
    "#resize image using opencv\n",
    "img1=cv2.imread(\"img/fruits.png\")\n",
    "img_resize=cv2.resize(img1,(800,800))\n",
    "cv2.imshow(\"window\",img_resize)\n",
    "cv2.waitKey(1000)\n",
    "\n"
   ]
  },
  {
   "cell_type": "code",
   "execution_count": 55,
   "metadata": {},
   "outputs": [
    {
     "name": "stdout",
     "output_type": "stream",
     "text": [
      "(800, 800, 3)\n"
     ]
    }
   ],
   "source": [
    "print(img_resize.shape)"
   ]
  },
  {
   "cell_type": "code",
   "execution_count": 56,
   "metadata": {},
   "outputs": [
    {
     "data": {
      "text/plain": [
       "-1"
      ]
     },
     "execution_count": 56,
     "metadata": {},
     "output_type": "execute_result"
    }
   ],
   "source": [
    "#resize image using opencv\n",
    "img1=cv2.imread(\"img/fruits.png\")\n",
    "img_resize=cv2.resize(img1,(512,512))\n",
    "cv2.imshow(\"window\",img_resize)\n",
    "cv2.waitKey(1000)\n"
   ]
  },
  {
   "cell_type": "code",
   "execution_count": 57,
   "metadata": {},
   "outputs": [
    {
     "name": "stdout",
     "output_type": "stream",
     "text": [
      "(512, 512, 3)\n"
     ]
    }
   ],
   "source": [
    "print(img_resize.shape)"
   ]
  },
  {
   "cell_type": "markdown",
   "metadata": {},
   "source": [
    "# Flipping an image"
   ]
  },
  {
   "cell_type": "code",
   "execution_count": 58,
   "metadata": {},
   "outputs": [
    {
     "data": {
      "text/plain": [
       "-1"
      ]
     },
     "execution_count": 58,
     "metadata": {},
     "output_type": "execute_result"
    }
   ],
   "source": [
    "#flipping an image\n",
    "\n",
    "#180 degree\n",
    "\n",
    "img1=cv2.imread(\"img/fruits.png\")\n",
    "img_flip=cv2.flip(img1,0)\n",
    "cv2.imshow(\"window\",img_flip)\n",
    "cv2.waitKey(1000)"
   ]
  },
  {
   "cell_type": "code",
   "execution_count": 59,
   "metadata": {},
   "outputs": [
    {
     "data": {
      "text/plain": [
       "-1"
      ]
     },
     "execution_count": 59,
     "metadata": {},
     "output_type": "execute_result"
    }
   ],
   "source": [
    "#horizontal shift\n",
    "#used in data augmentation in image reading process while trainig an ml model (eg : all the dogs are looking at lefft side , so to eliminate overfitting we use horizontal shift to make dog look right side also) \n",
    "\n",
    "img1=cv2.imread(\"img/fruits.png\")\n",
    "img_flip=cv2.flip(img1,1)\n",
    "cv2.imshow(\"window\",img_flip)\n",
    "cv2.waitKey(1000)"
   ]
  },
  {
   "cell_type": "code",
   "execution_count": 60,
   "metadata": {},
   "outputs": [
    {
     "data": {
      "text/plain": [
       "-1"
      ]
     },
     "execution_count": 60,
     "metadata": {},
     "output_type": "execute_result"
    }
   ],
   "source": [
    "#flipping in horizontal and then vertical \n",
    "img1=cv2.imread(\"img/fruits.png\")\n",
    "img_flip=cv2.flip(img1,-1)\n",
    "cv2.imshow(\"window\",img_flip)\n",
    "cv2.waitKey(1000)"
   ]
  },
  {
   "cell_type": "markdown",
   "metadata": {},
   "source": [
    "# image cropping"
   ]
  },
  {
   "cell_type": "code",
   "execution_count": 61,
   "metadata": {},
   "outputs": [
    {
     "data": {
      "text/plain": [
       "-1"
      ]
     },
     "execution_count": 61,
     "metadata": {},
     "output_type": "execute_result"
    }
   ],
   "source": [
    "#image cropping\n",
    "\n",
    "#syntax{ img1[height,width] }\n",
    "\n",
    "img1=cv2.imread(\"img/fruits.png\")\n",
    "img_crop=img1[100:300,200:500]\n",
    "cv2.imshow(\"cropped\",img_crop)\n",
    "cv2.waitKey(1000)\n"
   ]
  },
  {
   "cell_type": "code",
   "execution_count": 62,
   "metadata": {},
   "outputs": [
    {
     "data": {
      "text/plain": [
       "-1"
      ]
     },
     "execution_count": 62,
     "metadata": {},
     "output_type": "execute_result"
    }
   ],
   "source": [
    "#image cropped from top left (fetching from origin)\n",
    "img1=cv2.imread(\"img/fruits.png\")\n",
    "img_crop=img1[0:300,0:500]\n",
    "cv2.imshow(\"cropped\",img_crop)\n",
    "cv2.waitKey(1000)\n"
   ]
  },
  {
   "cell_type": "markdown",
   "metadata": {},
   "source": [
    "# Saving an image"
   ]
  },
  {
   "cell_type": "code",
   "execution_count": 63,
   "metadata": {},
   "outputs": [
    {
     "data": {
      "text/plain": [
       "True"
      ]
     },
     "execution_count": 63,
     "metadata": {},
     "output_type": "execute_result"
    }
   ],
   "source": [
    "cv2.imwrite('fruits_cropped.png',img_crop)"
   ]
  },
  {
   "cell_type": "markdown",
   "metadata": {},
   "source": [
    "# Drawing shapes"
   ]
  },
  {
   "cell_type": "code",
   "execution_count": 74,
   "metadata": {},
   "outputs": [
    {
     "data": {
      "text/plain": [
       "-1"
      ]
     },
     "execution_count": 74,
     "metadata": {},
     "output_type": "execute_result"
    }
   ],
   "source": [
    "# read an image\n",
    "image=np.zeros((512,512,3))\n",
    "cv2.imshow('window',image)\n",
    "cv2.waitKey(1000)"
   ]
  },
  {
   "cell_type": "code",
   "execution_count": 75,
   "metadata": {},
   "outputs": [
    {
     "data": {
      "text/plain": [
       "-1"
      ]
     },
     "execution_count": 75,
     "metadata": {},
     "output_type": "execute_result"
    }
   ],
   "source": [
    "#creating a shape\n",
    "\n",
    "#1 rectangle\n",
    "\n",
    "cv2.rectangle(image,pt1=(100,100),pt2=(300,300),color=(255,0,0),thickness=3)\n",
    "cv2.imshow('window',image)\n",
    "cv2.waitKey(1000)"
   ]
  },
  {
   "cell_type": "code",
   "execution_count": 76,
   "metadata": {},
   "outputs": [
    {
     "data": {
      "text/plain": [
       "-1"
      ]
     },
     "execution_count": 76,
     "metadata": {},
     "output_type": "execute_result"
    }
   ],
   "source": [
    "#2 Circle\n",
    "\n",
    "cv2.circle(image,center=(100,400),radius=50,color=(0,0,255),thickness=3)\n",
    "cv2.imshow('window',image)\n",
    "cv2.waitKey(1000)"
   ]
  },
  {
   "cell_type": "code",
   "execution_count": 77,
   "metadata": {},
   "outputs": [
    {
     "data": {
      "text/plain": [
       "-1"
      ]
     },
     "execution_count": 77,
     "metadata": {},
     "output_type": "execute_result"
    }
   ],
   "source": [
    "#3 line\n",
    "\n",
    "cv2.line(image,pt1=(0,0),pt2=(512,512),thickness=2,color=(0,255,0))\n",
    "cv2.imshow('window',image)\n",
    "cv2.waitKey(1000)"
   ]
  },
  {
   "cell_type": "code",
   "execution_count": 78,
   "metadata": {},
   "outputs": [
    {
     "data": {
      "text/plain": [
       "-1"
      ]
     },
     "execution_count": 78,
     "metadata": {},
     "output_type": "execute_result"
    }
   ],
   "source": [
    "#4 Text\n",
    "cv2.putText(image,org=(100,100),fontScale=4,color=(0,255,255),thickness=2,lineType=cv2.LINE_AA,text=\"Hello\",fontFace=cv2.FONT_ITALIC)\n",
    "cv2.imshow('window',image)\n",
    "cv2.waitKey(1000)"
   ]
  },
  {
   "cell_type": "markdown",
   "metadata": {},
   "source": [
    "# Live Direct drawing"
   ]
  },
  {
   "cell_type": "code",
   "execution_count": null,
   "metadata": {},
   "outputs": [],
   "source": [
    "#interacting with an image\n",
    "# 0xFF ==ord('x')----> pressing 'x' on keyboard will break the infinite while loop\n",
    "# used while working with videos   \n",
    "\n",
    "img3=np.zeros((512,512,3))\n",
    "\n",
    "while True:\n",
    "    cv2.imshow('window',img3)\n",
    "\n",
    "    if cv2.waitKey(1) & 0xFF ==ord('x'):\n",
    "        break\n",
    "\n",
    "cv2.destroyAllWindows()"
   ]
  },
  {
   "cell_type": "code",
   "execution_count": null,
   "metadata": {},
   "outputs": [],
   "source": [
    "#event==0 is mouse moved\n",
    "#event==1 is mouse down clicked\n",
    "#event==4 is mouse up clicked\n",
    "#when we click anywhere (x,y) on the image the shape should print.\n",
    "\n",
    "\n",
    "\n",
    "def draw(event,x,y,flags,params):\n",
    "    if event==1:\n",
    "        cv2.circle(img3,center=(x,y),radius=50,color=(0,255,0),thickness=2)\n",
    "    \n",
    "    \n",
    "cv2.namedWindow(winname=\"window\")\n",
    "cv2.setMouseCallback(\"window\",draw)\n",
    "\n",
    "\n",
    "img3=np.zeros((512,512,3))\n",
    "\n",
    "while True:\n",
    "    cv2.imshow('window',img3)\n",
    "\n",
    "    if cv2.waitKey(1) & 0xFF ==ord('x'):\n",
    "        break\n",
    "\n",
    "cv2.destroyAllWindows()"
   ]
  },
  {
   "cell_type": "code",
   "execution_count": null,
   "metadata": {},
   "outputs": [],
   "source": [
    "#creating shape on dargging the mouse on image\n",
    "#events involed are click , drag(move) , leave\n",
    "#creating shape when mouse is dragged , not when clicked \n",
    "\n",
    "\n",
    "flag=False\n",
    "ix=-1\n",
    "iy=-1\n",
    "\n",
    "def draw1(event,x,y,flags,params):\n",
    "\n",
    "    global flag,ix,iy\n",
    "\n",
    "    if event==1:\n",
    "\n",
    "        flag=False\n",
    "        ix=x\n",
    "        iy=y\n",
    "\n",
    "    elif event==0:\n",
    "        flag==True\n",
    "        cv2.rectangle(img3,pt1=(ix,iy),pt2=(x,y),color=(255,0,255),thickness=-1)\n",
    "    \n",
    "    elif event==4:\n",
    "        if flag == False:\n",
    "            cv2.rectangle(img3,pt1=(ix,iy),pt2=(x,y),color=(255,0,255),thickness=-1)\n",
    "\n",
    "\n",
    "cv2.namedWindow(winname=\"window\")\n",
    "cv2.setMouseCallback(\"window\",draw1)\n",
    "\n",
    "\n",
    "img3=np.zeros((512,512,3))\n",
    "\n",
    "while True:\n",
    "    cv2.imshow('window',img3)\n",
    "\n",
    "    if cv2.waitKey(1) & 0xFF ==ord('x'):\n",
    "        break\n",
    "\n",
    "cv2.destroyAllWindows()"
   ]
  }
 ],
 "metadata": {
  "kernelspec": {
   "display_name": "base",
   "language": "python",
   "name": "python3"
  },
  "language_info": {
   "codemirror_mode": {
    "name": "ipython",
    "version": 3
   },
   "file_extension": ".py",
   "mimetype": "text/x-python",
   "name": "python",
   "nbconvert_exporter": "python",
   "pygments_lexer": "ipython3",
   "version": "3.12.4"
  }
 },
 "nbformat": 4,
 "nbformat_minor": 2
}
